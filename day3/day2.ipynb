{
 "cells": [
  {
   "cell_type": "code",
   "execution_count": null,
   "metadata": {},
   "outputs": [],
   "source": [
    "widthR = 5\n",
    "lengthR = 7\n",
    "\n",
    "areaR=widthR*lengthR\n",
    "circumferenceR=2*(widthR+lengthR)\n",
    "\n",
    "print('For a rectangle with width ', widthR, 'and length ', lengthR, 'the area is ', areaR, 'and circumference is ',circumferenceR)"
   ]
  },
  {
   "cell_type": "code",
   "execution_count": null,
   "metadata": {},
   "outputs": [],
   "source": [
    "radiusC = 5\n",
    "\n",
    "areaC = 3.14* radiusC^2\n",
    "circumferenceC = 2 * 3.14 * radiusC\n",
    "\n",
    "print('A Circle with radius ', radiusC, 'has a circumference ', circumferenceC, 'and area ', areaC)"
   ]
  }
 ],
 "metadata": {
  "language_info": {
   "name": "python"
  }
 },
 "nbformat": 4,
 "nbformat_minor": 2
}
