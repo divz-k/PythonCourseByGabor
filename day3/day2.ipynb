{
 "cells": [
  {
   "cell_type": "code",
   "execution_count": null,
   "metadata": {},
   "outputs": [],
   "source": [
    "# Get width and length from the user\n",
    "widthR = float(input(\"Enter the width of the rectangle: \"))\n",
    "lengthR = float(input(\"Enter the length of the rectangle: \"))\n",
    "\n",
    "# Calculate area and circumference\n",
    "areaR = widthR * lengthR\n",
    "circumferenceR = 2 * (widthR + lengthR)\n",
    "\n",
    "# Display the results\n",
    "print(f'For a rectangle with width {widthR} and length {lengthR}, the area is {areaR} and the circumference is {circumferenceR}')\n"
   ]
  },
  {
   "cell_type": "code",
   "execution_count": null,
   "metadata": {},
   "outputs": [],
   "source": [
    "# Get width and length from the user\n",
    "radiusC = float(input(\"Enter the radius of the circle: \"))\n",
    "\n",
    "# Calculate area and circumference\n",
    "areaC = 3.14 * radiusC**2\n",
    "circumferenceC = 2 * 3.14 * radiusC\n",
    "\n",
    "# Display the results\n",
    "print(f'For a circle with radius {radiusC}, the area is {areaC} and the circumference is {circumferenceC}')\n"
   ]
  }
 ],
 "metadata": {
  "language_info": {
   "name": "python"
  }
 },
 "nbformat": 4,
 "nbformat_minor": 2
}
