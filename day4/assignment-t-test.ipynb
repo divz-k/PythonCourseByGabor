{
 "cells": [
  {
   "cell_type": "markdown",
   "metadata": {},
   "source": [
    "# Homework Assignment: t-test, Histograms, and Boxplots"
   ]
  },
  {
   "cell_type": "markdown",
   "metadata": {},
   "source": [
    "In this assignment we will learn how to perform statistical comparisons using the t-test, visualize distributions with histograms, and summarize data with boxplots"
   ]
  },
  {
   "cell_type": "markdown",
   "metadata": {},
   "source": []
  },
  {
   "cell_type": "markdown",
   "metadata": {},
   "source": [
    "## <font color = \"pink\" > Task 1: Generate Two Random Distributions\n"
   ]
  },
  {
   "cell_type": "markdown",
   "metadata": {},
   "source": [
    "Generate two random distributions of size 100 each using numpy.random.randn. Add a shift to make the distributions different (e.g., add  +2 to the other).\n"
   ]
  },
  {
   "cell_type": "code",
   "execution_count": 5,
   "metadata": {},
   "outputs": [],
   "source": [
    "import numpy as np\n",
    "\n",
    "# Generate random distributions\n",
    "dist1 = np.random.randn(100) #TODO:\n",
    "dist2 = np.random.randn(100)+2 #TODO:"
   ]
  },
  {
   "cell_type": "markdown",
   "metadata": {},
   "source": [
    "## <font color = \"pink\" > Task 2: Perform a t-test"
   ]
  },
  {
   "cell_type": "markdown",
   "metadata": {},
   "source": [
    "## t-test\n",
    "\n",
    "t-test checks if two populations are statistically different from each other.\n",
    "\n",
    "- [\n",
    "Python package for statistical functions: `scipy.stats.ttest_ind`](https://docs.scipy.org/doc/scipy/reference/generated/scipy.stats.ttest_ind.html)\n",
    "\n",
    "It returns a **P-value**. If the P-value is smaller than some threshold (e.g., 0.05, which is commonly used), we say that there is **(1 – threshold) * 100% confidence** that the populations are different.\n",
    "\n",
    "### Key Points:\n",
    "- **Smaller P-values** (usually below 0.05) indicate that the difference between two populations is statistically significant.\n",
    "- t-test assumes that the populations are sampled from **normal distributions**.\n",
    "- The **P-value magnitude** depends on the number of samples. Larger sample sizes lead to smaller P-values if the distributions are statistically different.\n",
    "\n"
   ]
  },
  {
   "cell_type": "markdown",
   "metadata": {},
   "source": [
    "\n",
    "Use the scipy.stats.ttest_ind function to perform an independent t-test on the two distributions"
   ]
  },
  {
   "cell_type": "code",
   "execution_count": 6,
   "metadata": {},
   "outputs": [
    {
     "name": "stdout",
     "output_type": "stream",
     "text": [
      "t-statistic:\n",
      "p-value:\n"
     ]
    }
   ],
   "source": [
    "from scipy.stats import ttest_ind\n",
    "\n",
    "# Perform t-test on the 2 populations using the function `ttest_ind()` and print it\n",
    "\n",
    "print(\"t-statistic:\")\n",
    "print(\"p-value:\")"
   ]
  },
  {
   "cell_type": "markdown",
   "metadata": {},
   "source": [
    "## <font color = \"pink\" >Task 3: Visualize with Histograms"
   ]
  },
  {
   "cell_type": "markdown",
   "metadata": {},
   "source": [
    "### Plot Histograms of Two Distributions\n",
    "\n",
    "- Use `matplotlib.pyplot.hist` to plot histograms of the two distributions.  \n",
    "- Use **different colors** for each histogram and add a **legend** to indicate the distributions.  \n",
    "- Refer to the [Matplotlib `hist` documentation](https://matplotlib.org/stable/api/_as_gen/matplotlib.pyplot.hist.html) for more details.\n"
   ]
  },
  {
   "cell_type": "code",
   "execution_count": 9,
   "metadata": {},
   "outputs": [
    {
     "data": {
      "image/png": "[encoded data removed]",
      "text/plain": [
       "<Figure size 640x480 with 1 Axes>"
      ]
     },
     "metadata": {},
     "output_type": "display_data"
    }
   ],
   "source": [
    "import matplotlib.pyplot as plt\n",
    "\n",
    "# Plot histograms\n",
    "plt.hist(dist1) #TODO:\n",
    "plt.hist(dist2)#TODO:\n",
    "plt.legend([\"dist1\", \"dist2\"])\n",
    "plt.title(\"histogram\")#TODO:\n",
    "plt.xlabel(\"values\")#TODO:\n",
    "plt.ylabel(\"#elements\")#TODO:\n",
    "plt.show()\n"
   ]
  },
  {
   "cell_type": "markdown",
   "metadata": {},
   "source": [
    "## <font color = \"pink\" >Task 4: Create Boxplots"
   ]
  },
  {
   "cell_type": "code",
   "execution_count": 10,
   "metadata": {},
   "outputs": [
    {
     "data": {
      "image/png": "[encoded data removed]",
      "text/plain": [
       "<Figure size 640x480 with 1 Axes>"
      ]
     },
     "metadata": {},
     "output_type": "display_data"
    }
   ],
   "source": [
    "# Create boxplots\n",
    "plt.boxplot([dist1, dist2])#TODO:\n",
    "plt.title(\"boxplot\")#TODO:\n",
    "plt.ylabel(\"values\")#TODO:\n",
    "plt.show()\n"
   ]
  },
  {
   "cell_type": "markdown",
   "metadata": {},
   "source": [
    "## <font color ='pink'> # Task 4: Multiple Questions"
   ]
  },
  {
   "cell_type": "markdown",
   "metadata": {},
   "source": [
    "### Let's review what we learned in the previous class to refine our understanding 📝 :\n",
    "\n",
    "\n",
    "1. Write a loop to ask the user **five subtraction questions**.\n",
    "2. Use the following Python features:\n",
    "   - `random` to generate random numbers for the questions.\n",
    "   - `input()` to allow the user to answer each question.\n",
    "   - `int()` to convert the user input to an integer for comparison.\n",
    "3. Keep track of how many answers are correct.\n",
    "4. At the end, display the user's total score (e.g., \"You scored X/5!\").\n",
    "\n",
    "\n"
   ]
  },
  {
   "cell_type": "markdown",
   "metadata": {},
   "source": []
  },
  {
   "cell_type": "code",
   "execution_count": 12,
   "metadata": {},
   "outputs": [
    {
     "name": "stdout",
     "output_type": "stream",
     "text": [
      "Incorrect! The correct answer was 2.\n",
      "Correct!\n",
      "Incorrect! The correct answer was 2.\n",
      "Incorrect! The correct answer was 5.\n",
      "Incorrect! The correct answer was 3.\n",
      "\n",
      "You scored 1/5!\n"
     ]
    }
   ],
   "source": [
    "import random\n",
    "\n",
    "def ask_subtraction_questions():\n",
    "    # Initialize the score\n",
    "    score = 0\n",
    "    \n",
    "    # Loop to ask 5 questions\n",
    "    for i in range(5):\n",
    "        # Generate two random numbers for the subtraction question\n",
    "        num1 = random.randint(1, 20)  # Random number between 1 and 20\n",
    "        num2 = random.randint(1, 20)  # Random number between 1 and 20\n",
    "        \n",
    "        # Ensure num1 is greater than num2 for the subtraction to be positive\n",
    "        if num1 < num2:\n",
    "            num1, num2 = num2, num1\n",
    "        \n",
    "        # Ask the user the question\n",
    "        answer = input(f\"Question {i+1}: What is {num1} - {num2}? \")\n",
    "        \n",
    "        # Check if the user's answer is correct\n",
    "        try:\n",
    "            # Convert the input to an integer\n",
    "            user_answer = int(answer)\n",
    "            \n",
    "            # Check if the user's answer is correct\n",
    "            if user_answer == num1 - num2:\n",
    "                print(\"Correct!\")\n",
    "                score += 1  # Increase score if the answer is correct\n",
    "            else:\n",
    "                print(f\"Incorrect! The correct answer was {num1 - num2}.\")\n",
    "        except ValueError:\n",
    "            # Handle invalid input if the user doesn't enter a number\n",
    "            print(\"Please enter a valid number.\")\n",
    "    \n",
    "    # Display the total score\n",
    "    print(f\"\\nYou scored {score}/5!\")\n",
    "    \n",
    "# Call the function to start the quiz\n",
    "ask_subtraction_questions()\n"
   ]
  }
 ],
 "metadata": {
  "kernelspec": {
   "display_name": "Python 3",
   "language": "python",
   "name": "python3"
  },
  "language_info": {
   "codemirror_mode": {
    "name": "ipython",
    "version": 3
   },
   "file_extension": ".py",
   "mimetype": "text/x-python",
   "name": "python",
   "nbconvert_exporter": "python",
   "pygments_lexer": "ipython3",
   "version": "3.13.0"
  }
 },
 "nbformat": 4,
 "nbformat_minor": 2
}
